{
 "cells": [
  {
   "cell_type": "markdown",
   "id": "c8e95694",
   "metadata": {},
   "source": [
    "# Тустовое задание на отбор на позицию стажера в отдел структурной биоинформатики BIOCAD 2025"
   ]
  },
  {
   "cell_type": "markdown",
   "id": "82bc40c2",
   "metadata": {},
   "source": [
    "### работу выполнил Калинкин Алексей"
   ]
  },
  {
   "cell_type": "markdown",
   "id": "44a6d63a",
   "metadata": {},
   "source": [
    "## Загрузка данных:"
   ]
  },
  {
   "cell_type": "code",
   "execution_count": 1,
   "id": "da71444d",
   "metadata": {},
   "outputs": [
    {
     "name": "stdout",
     "output_type": "stream",
     "text": [
      "--2025-05-04 18:34:55--  https://life.bsc.es/pid/skempi2/database/download/skempi_v2.csv\n",
      "Resolving life.bsc.es (life.bsc.es)... 84.88.52.107\n",
      "Connecting to life.bsc.es (life.bsc.es)|84.88.52.107|:443... connected.\n",
      "HTTP request sent, awaiting response... 200 OK\n",
      "Length: 1602208 (1.5M) [text/csv]\n",
      "Saving to: ‘skempi_v2.csv’\n",
      "\n",
      "skempi_v2.csv       100%[===================>]   1.53M  2.70MB/s    in 0.6s    \n",
      "\n",
      "2025-05-04 18:34:56 (2.70 MB/s) - ‘skempi_v2.csv’ saved [1602208/1602208]\n",
      "\n"
     ]
    }
   ],
   "source": [
    "!wget https://life.bsc.es/pid/skempi2/database/download/skempi_v2.csv"
   ]
  },
  {
   "cell_type": "markdown",
   "id": "2b925cb4",
   "metadata": {},
   "source": [
    "## Подготовка данных:"
   ]
  },
  {
   "cell_type": "code",
   "execution_count": 145,
   "id": "69942d1c",
   "metadata": {},
   "outputs": [],
   "source": [
    "import pandas as pd\n",
    "import numpy as np\n",
    "import matplotlib.pyplot as plt\n",
    "import tqdm.notebook as tqdm\n",
    "import torch\n",
    "import torch.nn as nn\n",
    "import torch.nn.functional as F\n",
    "import torch.optim as optim\n",
    "from torch.utils.data import Dataset, DataLoader\n",
    "from sklearn.model_selection import train_test_split\n",
    "from sklearn.preprocessing import MinMaxScaler\n",
    "from tqdm import tqdm"
   ]
  },
  {
   "cell_type": "code",
   "execution_count": 2,
   "id": "48c96910",
   "metadata": {},
   "outputs": [
    {
     "data": {
      "text/html": [
       "<div>\n",
       "<style scoped>\n",
       "    .dataframe tbody tr th:only-of-type {\n",
       "        vertical-align: middle;\n",
       "    }\n",
       "\n",
       "    .dataframe tbody tr th {\n",
       "        vertical-align: top;\n",
       "    }\n",
       "\n",
       "    .dataframe thead th {\n",
       "        text-align: right;\n",
       "    }\n",
       "</style>\n",
       "<table border=\"1\" class=\"dataframe\">\n",
       "  <thead>\n",
       "    <tr style=\"text-align: right;\">\n",
       "      <th></th>\n",
       "      <th>#Pdb</th>\n",
       "      <th>Mutation(s)_PDB</th>\n",
       "      <th>Mutation(s)_cleaned</th>\n",
       "      <th>iMutation_Location(s)</th>\n",
       "      <th>Hold_out_type</th>\n",
       "      <th>Hold_out_proteins</th>\n",
       "      <th>Affinity_mut (M)</th>\n",
       "      <th>Affinity_mut_parsed</th>\n",
       "      <th>Affinity_wt (M)</th>\n",
       "      <th>Affinity_wt_parsed</th>\n",
       "      <th>...</th>\n",
       "      <th>koff_mut_parsed</th>\n",
       "      <th>koff_wt (s^(-1))</th>\n",
       "      <th>koff_wt_parsed</th>\n",
       "      <th>dH_mut (kcal mol^(-1))</th>\n",
       "      <th>dH_wt (kcal mol^(-1))</th>\n",
       "      <th>dS_mut (cal mol^(-1) K^(-1))</th>\n",
       "      <th>dS_wt (cal mol^(-1) K^(-1))</th>\n",
       "      <th>Notes</th>\n",
       "      <th>Method</th>\n",
       "      <th>SKEMPI version</th>\n",
       "    </tr>\n",
       "  </thead>\n",
       "  <tbody>\n",
       "    <tr>\n",
       "      <th>0</th>\n",
       "      <td>1CSE_E_I</td>\n",
       "      <td>LI45G</td>\n",
       "      <td>LI38G</td>\n",
       "      <td>COR</td>\n",
       "      <td>Pr/PI</td>\n",
       "      <td>Pr/PI</td>\n",
       "      <td>5.26E-11</td>\n",
       "      <td>5.260000e-11</td>\n",
       "      <td>1.12E-12</td>\n",
       "      <td>1.120000e-12</td>\n",
       "      <td>...</td>\n",
       "      <td>NaN</td>\n",
       "      <td>NaN</td>\n",
       "      <td>NaN</td>\n",
       "      <td>NaN</td>\n",
       "      <td>NaN</td>\n",
       "      <td>NaN</td>\n",
       "      <td>NaN</td>\n",
       "      <td>NaN</td>\n",
       "      <td>IASP</td>\n",
       "      <td>1</td>\n",
       "    </tr>\n",
       "    <tr>\n",
       "      <th>1</th>\n",
       "      <td>1CSE_E_I</td>\n",
       "      <td>LI45S</td>\n",
       "      <td>LI38S</td>\n",
       "      <td>COR</td>\n",
       "      <td>Pr/PI</td>\n",
       "      <td>Pr/PI</td>\n",
       "      <td>8.33E-12</td>\n",
       "      <td>8.330000e-12</td>\n",
       "      <td>1.12E-12</td>\n",
       "      <td>1.120000e-12</td>\n",
       "      <td>...</td>\n",
       "      <td>NaN</td>\n",
       "      <td>NaN</td>\n",
       "      <td>NaN</td>\n",
       "      <td>NaN</td>\n",
       "      <td>NaN</td>\n",
       "      <td>NaN</td>\n",
       "      <td>NaN</td>\n",
       "      <td>NaN</td>\n",
       "      <td>IASP</td>\n",
       "      <td>1</td>\n",
       "    </tr>\n",
       "    <tr>\n",
       "      <th>2</th>\n",
       "      <td>1CSE_E_I</td>\n",
       "      <td>LI45P</td>\n",
       "      <td>LI38P</td>\n",
       "      <td>COR</td>\n",
       "      <td>Pr/PI</td>\n",
       "      <td>Pr/PI</td>\n",
       "      <td>1.02E-07</td>\n",
       "      <td>1.020000e-07</td>\n",
       "      <td>1.12E-12</td>\n",
       "      <td>1.120000e-12</td>\n",
       "      <td>...</td>\n",
       "      <td>NaN</td>\n",
       "      <td>NaN</td>\n",
       "      <td>NaN</td>\n",
       "      <td>NaN</td>\n",
       "      <td>NaN</td>\n",
       "      <td>NaN</td>\n",
       "      <td>NaN</td>\n",
       "      <td>NaN</td>\n",
       "      <td>IASP</td>\n",
       "      <td>1</td>\n",
       "    </tr>\n",
       "    <tr>\n",
       "      <th>3</th>\n",
       "      <td>1CSE_E_I</td>\n",
       "      <td>LI45I</td>\n",
       "      <td>LI38I</td>\n",
       "      <td>COR</td>\n",
       "      <td>Pr/PI</td>\n",
       "      <td>Pr/PI</td>\n",
       "      <td>1.72E-10</td>\n",
       "      <td>1.720000e-10</td>\n",
       "      <td>1.12E-12</td>\n",
       "      <td>1.120000e-12</td>\n",
       "      <td>...</td>\n",
       "      <td>NaN</td>\n",
       "      <td>NaN</td>\n",
       "      <td>NaN</td>\n",
       "      <td>NaN</td>\n",
       "      <td>NaN</td>\n",
       "      <td>NaN</td>\n",
       "      <td>NaN</td>\n",
       "      <td>NaN</td>\n",
       "      <td>IASP</td>\n",
       "      <td>1</td>\n",
       "    </tr>\n",
       "    <tr>\n",
       "      <th>4</th>\n",
       "      <td>1CSE_E_I</td>\n",
       "      <td>LI45D</td>\n",
       "      <td>LI38D</td>\n",
       "      <td>COR</td>\n",
       "      <td>Pr/PI</td>\n",
       "      <td>Pr/PI</td>\n",
       "      <td>1.92E-09</td>\n",
       "      <td>1.920000e-09</td>\n",
       "      <td>1.12E-12</td>\n",
       "      <td>1.120000e-12</td>\n",
       "      <td>...</td>\n",
       "      <td>NaN</td>\n",
       "      <td>NaN</td>\n",
       "      <td>NaN</td>\n",
       "      <td>NaN</td>\n",
       "      <td>NaN</td>\n",
       "      <td>NaN</td>\n",
       "      <td>NaN</td>\n",
       "      <td>NaN</td>\n",
       "      <td>IASP</td>\n",
       "      <td>1</td>\n",
       "    </tr>\n",
       "    <tr>\n",
       "      <th>...</th>\n",
       "      <td>...</td>\n",
       "      <td>...</td>\n",
       "      <td>...</td>\n",
       "      <td>...</td>\n",
       "      <td>...</td>\n",
       "      <td>...</td>\n",
       "      <td>...</td>\n",
       "      <td>...</td>\n",
       "      <td>...</td>\n",
       "      <td>...</td>\n",
       "      <td>...</td>\n",
       "      <td>...</td>\n",
       "      <td>...</td>\n",
       "      <td>...</td>\n",
       "      <td>...</td>\n",
       "      <td>...</td>\n",
       "      <td>...</td>\n",
       "      <td>...</td>\n",
       "      <td>...</td>\n",
       "      <td>...</td>\n",
       "      <td>...</td>\n",
       "    </tr>\n",
       "    <tr>\n",
       "      <th>7080</th>\n",
       "      <td>3QIB_ABP_CD</td>\n",
       "      <td>KP9R</td>\n",
       "      <td>KP8R</td>\n",
       "      <td>COR</td>\n",
       "      <td>TCR/pMHC</td>\n",
       "      <td>TCR/pMHC,1JCK_A_B</td>\n",
       "      <td>2.4E-04</td>\n",
       "      <td>2.400000e-04</td>\n",
       "      <td>5.5E-06</td>\n",
       "      <td>5.500000e-06</td>\n",
       "      <td>...</td>\n",
       "      <td>0.500</td>\n",
       "      <td>2.2E-02</td>\n",
       "      <td>0.022</td>\n",
       "      <td>NaN</td>\n",
       "      <td>NaN</td>\n",
       "      <td>NaN</td>\n",
       "      <td>NaN</td>\n",
       "      <td>NaN</td>\n",
       "      <td>SPR</td>\n",
       "      <td>2</td>\n",
       "    </tr>\n",
       "    <tr>\n",
       "      <th>7081</th>\n",
       "      <td>3QIB_ABP_CD</td>\n",
       "      <td>TP12A</td>\n",
       "      <td>TP11A</td>\n",
       "      <td>COR</td>\n",
       "      <td>TCR/pMHC</td>\n",
       "      <td>TCR/pMHC,1JCK_A_B</td>\n",
       "      <td>&gt;1.1E-03</td>\n",
       "      <td>1.100000e-03</td>\n",
       "      <td>5.5E-06</td>\n",
       "      <td>5.500000e-06</td>\n",
       "      <td>...</td>\n",
       "      <td>NaN</td>\n",
       "      <td>NaN</td>\n",
       "      <td>NaN</td>\n",
       "      <td>NaN</td>\n",
       "      <td>NaN</td>\n",
       "      <td>NaN</td>\n",
       "      <td>NaN</td>\n",
       "      <td>NaN</td>\n",
       "      <td>SPR</td>\n",
       "      <td>2</td>\n",
       "    </tr>\n",
       "    <tr>\n",
       "      <th>7082</th>\n",
       "      <td>3QIB_ABP_CD</td>\n",
       "      <td>TP12S</td>\n",
       "      <td>TP11S</td>\n",
       "      <td>COR</td>\n",
       "      <td>TCR/pMHC</td>\n",
       "      <td>TCR/pMHC,1JCK_A_B</td>\n",
       "      <td>3.38E-05</td>\n",
       "      <td>3.380000e-05</td>\n",
       "      <td>5.5E-06</td>\n",
       "      <td>5.500000e-06</td>\n",
       "      <td>...</td>\n",
       "      <td>0.134</td>\n",
       "      <td>2.2E-02</td>\n",
       "      <td>0.022</td>\n",
       "      <td>NaN</td>\n",
       "      <td>NaN</td>\n",
       "      <td>NaN</td>\n",
       "      <td>NaN</td>\n",
       "      <td>NaN</td>\n",
       "      <td>SPR</td>\n",
       "      <td>2</td>\n",
       "    </tr>\n",
       "    <tr>\n",
       "      <th>7083</th>\n",
       "      <td>3QIB_ABP_CD</td>\n",
       "      <td>TP12N</td>\n",
       "      <td>TP11N</td>\n",
       "      <td>COR</td>\n",
       "      <td>TCR/pMHC</td>\n",
       "      <td>TCR/pMHC,1JCK_A_B</td>\n",
       "      <td>4.34E-05</td>\n",
       "      <td>4.340000e-05</td>\n",
       "      <td>5.5E-06</td>\n",
       "      <td>5.500000e-06</td>\n",
       "      <td>...</td>\n",
       "      <td>0.175</td>\n",
       "      <td>2.2E-02</td>\n",
       "      <td>0.022</td>\n",
       "      <td>NaN</td>\n",
       "      <td>NaN</td>\n",
       "      <td>NaN</td>\n",
       "      <td>NaN</td>\n",
       "      <td>NaN</td>\n",
       "      <td>SPR</td>\n",
       "      <td>2</td>\n",
       "    </tr>\n",
       "    <tr>\n",
       "      <th>7084</th>\n",
       "      <td>3QIB_ABP_CD</td>\n",
       "      <td>YP7F,TP12S</td>\n",
       "      <td>YP6F,TP11S</td>\n",
       "      <td>COR,COR</td>\n",
       "      <td>TCR/pMHC</td>\n",
       "      <td>TCR/pMHC,1JCK_A_B</td>\n",
       "      <td>4.29E-05</td>\n",
       "      <td>4.290000e-05</td>\n",
       "      <td>5.5E-06</td>\n",
       "      <td>5.500000e-06</td>\n",
       "      <td>...</td>\n",
       "      <td>0.180</td>\n",
       "      <td>2.2E-02</td>\n",
       "      <td>0.022</td>\n",
       "      <td>NaN</td>\n",
       "      <td>NaN</td>\n",
       "      <td>NaN</td>\n",
       "      <td>NaN</td>\n",
       "      <td>NaN</td>\n",
       "      <td>SPR</td>\n",
       "      <td>2</td>\n",
       "    </tr>\n",
       "  </tbody>\n",
       "</table>\n",
       "<p>7085 rows × 29 columns</p>\n",
       "</div>"
      ],
      "text/plain": [
       "             #Pdb Mutation(s)_PDB Mutation(s)_cleaned iMutation_Location(s)  \\\n",
       "0        1CSE_E_I           LI45G               LI38G                   COR   \n",
       "1        1CSE_E_I           LI45S               LI38S                   COR   \n",
       "2        1CSE_E_I           LI45P               LI38P                   COR   \n",
       "3        1CSE_E_I           LI45I               LI38I                   COR   \n",
       "4        1CSE_E_I           LI45D               LI38D                   COR   \n",
       "...           ...             ...                 ...                   ...   \n",
       "7080  3QIB_ABP_CD            KP9R                KP8R                   COR   \n",
       "7081  3QIB_ABP_CD           TP12A               TP11A                   COR   \n",
       "7082  3QIB_ABP_CD           TP12S               TP11S                   COR   \n",
       "7083  3QIB_ABP_CD           TP12N               TP11N                   COR   \n",
       "7084  3QIB_ABP_CD      YP7F,TP12S          YP6F,TP11S               COR,COR   \n",
       "\n",
       "     Hold_out_type  Hold_out_proteins Affinity_mut (M)  Affinity_mut_parsed  \\\n",
       "0            Pr/PI              Pr/PI         5.26E-11         5.260000e-11   \n",
       "1            Pr/PI              Pr/PI         8.33E-12         8.330000e-12   \n",
       "2            Pr/PI              Pr/PI         1.02E-07         1.020000e-07   \n",
       "3            Pr/PI              Pr/PI         1.72E-10         1.720000e-10   \n",
       "4            Pr/PI              Pr/PI         1.92E-09         1.920000e-09   \n",
       "...            ...                ...              ...                  ...   \n",
       "7080      TCR/pMHC  TCR/pMHC,1JCK_A_B          2.4E-04         2.400000e-04   \n",
       "7081      TCR/pMHC  TCR/pMHC,1JCK_A_B         >1.1E-03         1.100000e-03   \n",
       "7082      TCR/pMHC  TCR/pMHC,1JCK_A_B         3.38E-05         3.380000e-05   \n",
       "7083      TCR/pMHC  TCR/pMHC,1JCK_A_B         4.34E-05         4.340000e-05   \n",
       "7084      TCR/pMHC  TCR/pMHC,1JCK_A_B         4.29E-05         4.290000e-05   \n",
       "\n",
       "     Affinity_wt (M)  Affinity_wt_parsed  ... koff_mut_parsed  \\\n",
       "0           1.12E-12        1.120000e-12  ...             NaN   \n",
       "1           1.12E-12        1.120000e-12  ...             NaN   \n",
       "2           1.12E-12        1.120000e-12  ...             NaN   \n",
       "3           1.12E-12        1.120000e-12  ...             NaN   \n",
       "4           1.12E-12        1.120000e-12  ...             NaN   \n",
       "...              ...                 ...  ...             ...   \n",
       "7080         5.5E-06        5.500000e-06  ...           0.500   \n",
       "7081         5.5E-06        5.500000e-06  ...             NaN   \n",
       "7082         5.5E-06        5.500000e-06  ...           0.134   \n",
       "7083         5.5E-06        5.500000e-06  ...           0.175   \n",
       "7084         5.5E-06        5.500000e-06  ...           0.180   \n",
       "\n",
       "     koff_wt (s^(-1)) koff_wt_parsed dH_mut (kcal mol^(-1))  \\\n",
       "0                 NaN            NaN                    NaN   \n",
       "1                 NaN            NaN                    NaN   \n",
       "2                 NaN            NaN                    NaN   \n",
       "3                 NaN            NaN                    NaN   \n",
       "4                 NaN            NaN                    NaN   \n",
       "...               ...            ...                    ...   \n",
       "7080          2.2E-02          0.022                    NaN   \n",
       "7081              NaN            NaN                    NaN   \n",
       "7082          2.2E-02          0.022                    NaN   \n",
       "7083          2.2E-02          0.022                    NaN   \n",
       "7084          2.2E-02          0.022                    NaN   \n",
       "\n",
       "      dH_wt (kcal mol^(-1))  dS_mut (cal mol^(-1) K^(-1))  \\\n",
       "0                       NaN                           NaN   \n",
       "1                       NaN                           NaN   \n",
       "2                       NaN                           NaN   \n",
       "3                       NaN                           NaN   \n",
       "4                       NaN                           NaN   \n",
       "...                     ...                           ...   \n",
       "7080                    NaN                           NaN   \n",
       "7081                    NaN                           NaN   \n",
       "7082                    NaN                           NaN   \n",
       "7083                    NaN                           NaN   \n",
       "7084                    NaN                           NaN   \n",
       "\n",
       "      dS_wt (cal mol^(-1) K^(-1))  Notes Method  SKEMPI version  \n",
       "0                             NaN    NaN   IASP               1  \n",
       "1                             NaN    NaN   IASP               1  \n",
       "2                             NaN    NaN   IASP               1  \n",
       "3                             NaN    NaN   IASP               1  \n",
       "4                             NaN    NaN   IASP               1  \n",
       "...                           ...    ...    ...             ...  \n",
       "7080                          NaN    NaN    SPR               2  \n",
       "7081                          NaN    NaN    SPR               2  \n",
       "7082                          NaN    NaN    SPR               2  \n",
       "7083                          NaN    NaN    SPR               2  \n",
       "7084                          NaN    NaN    SPR               2  \n",
       "\n",
       "[7085 rows x 29 columns]"
      ]
     },
     "execution_count": 2,
     "metadata": {},
     "output_type": "execute_result"
    }
   ],
   "source": [
    "data = pd.read_csv('./skempi_v2.csv', delimiter=';')\n",
    "data"
   ]
  },
  {
   "cell_type": "code",
   "execution_count": 3,
   "id": "0bf09fbb",
   "metadata": {},
   "outputs": [],
   "source": [
    "def process_column(string):\n",
    "    try:\n",
    "        float(string)\n",
    "        return string\n",
    "    except:\n",
    "        try: \n",
    "            float(string[1:])\n",
    "            return string[1:]\n",
    "        except:\n",
    "            return None"
   ]
  },
  {
   "cell_type": "code",
   "execution_count": null,
   "id": "6c7bc759",
   "metadata": {},
   "outputs": [],
   "source": [
    "data['Affinity_mut (M)'] = data['Affinity_mut (M)'].apply(process_column)\n",
    "data['Affinity_wt (M)'] = data['Affinity_wt (M)'].apply(process_column)\n",
    "data = data[data['Affinity_mut (M)'].notna() & data['Affinity_wt (M)'].notna()]\n",
    "\n",
    "data['Temperature'] = data['Temperature'].apply(lambda x: float(x[:3]) if type(x) != float else x)\n",
    "\n",
    "data['Affinity_mut (M)'] = data['Affinity_mut (M)'].apply(float)\n",
    "data['Affinity_wt (M)'] = data['Affinity_wt (M)'].apply(float)"
   ]
  },
  {
   "cell_type": "code",
   "execution_count": 9,
   "id": "8a2ff164",
   "metadata": {},
   "outputs": [
    {
     "name": "stderr",
     "output_type": "stream",
     "text": [
      "/home/aleksei/miniconda3/envs/torchenv/lib/python3.10/site-packages/pandas/core/arraylike.py:399: RuntimeWarning: divide by zero encountered in log\n",
      "  result = getattr(ufunc, method)(*inputs, **kwargs)\n",
      "/home/aleksei/miniconda3/envs/torchenv/lib/python3.10/site-packages/pandas/core/arraylike.py:399: RuntimeWarning: invalid value encountered in log\n",
      "  result = getattr(ufunc, method)(*inputs, **kwargs)\n"
     ]
    }
   ],
   "source": [
    "data = data.copy()\n",
    "R = 8.314 \n",
    "data['ddG'] = R*data['Temperature']*np.log(data['Affinity_mut (M)'] - data['Affinity_wt (M)'])"
   ]
  },
  {
   "cell_type": "code",
   "execution_count": 10,
   "id": "0d8fd6ec",
   "metadata": {},
   "outputs": [
    {
     "data": {
      "text/plain": [
       "0      -57905.424966\n",
       "1      -62710.276645\n",
       "2      -39349.342050\n",
       "3      -54972.812424\n",
       "4      -49061.147635\n",
       "            ...     \n",
       "7080   -20707.682968\n",
       "7081   -16890.742163\n",
       "7082   -25946.741317\n",
       "7083   -25223.069027\n",
       "7084   -25255.972194\n",
       "Name: ddG, Length: 6798, dtype: float64"
      ]
     },
     "execution_count": 10,
     "metadata": {},
     "output_type": "execute_result"
    }
   ],
   "source": [
    "data['ddG']"
   ]
  },
  {
   "cell_type": "code",
   "execution_count": 12,
   "id": "95ea0ebf",
   "metadata": {},
   "outputs": [],
   "source": [
    "# оставим только единичные мутации, чтобы обеспечить постоянную форму входных данных для модели\n",
    "mask3 = data['iMutation_Location(s)'].apply(lambda x: False if ',' in x else True)\n",
    "data = data[mask3]"
   ]
  },
  {
   "cell_type": "code",
   "execution_count": 131,
   "id": "cd445ce2",
   "metadata": {},
   "outputs": [],
   "source": [
    "data.to_csv('data.csv', index=False)"
   ]
  },
  {
   "cell_type": "code",
   "execution_count": 34,
   "id": "7b74cf98",
   "metadata": {},
   "outputs": [],
   "source": [
    "res_to_code = {\n",
    "    'A': 0,\n",
    "    'R': 1,\n",
    "    'N': 2,\n",
    "    'D': 3,\n",
    "    'C': 4,\n",
    "    'Q': 5,\n",
    "    'E': 6,\n",
    "    'G': 7,\n",
    "    'H': 8,\n",
    "    'I': 9,\n",
    "    'L': 10,\n",
    "    'K': 11,\n",
    "    'M': 12,\n",
    "    'F': 13,\n",
    "    'P': 14,\n",
    "    'S': 15, \n",
    "    'T': 16,\n",
    "    'W': 17,\n",
    "    'Y': 18,\n",
    "    'V': 19\n",
    "}\n",
    "\n",
    "location_to_code ={\n",
    "    'COR': 0,\n",
    "    'RIM': 1,\n",
    "    'SUP': 2,\n",
    "    'SUR': 3,\n",
    "    'INT': 4,\n",
    "}\n",
    "\n",
    "method_to_code = {\n",
    "    'SPR': 0,\n",
    "    'FL': 1,\n",
    "    'IASP': 2,\n",
    "    'ITC': 3,\n",
    "    'RA': 4,\n",
    "    'SFFL': 5,\n",
    "    'SP': 6,\n",
    "    'IAFL': 7,\n",
    "    'ELISA': 8,\n",
    "    'IARA': 9,\n",
    "    'KinExA': 10,\n",
    "    'BI': 11,\n",
    "    'CSPRIA': 12,\n",
    "    'ESMA': 13,\n",
    "    'ELFA': 14,\n",
    "    'SE': 15, \n",
    "    'SFPF': 16,\n",
    "    'SPR,SFFL': 17,\n",
    "    'IAGE': 18,\n",
    "    'EMSA': 19\n",
    "}"
   ]
  },
  {
   "cell_type": "code",
   "execution_count": 133,
   "id": "bce25d86",
   "metadata": {},
   "outputs": [],
   "source": [
    "prepared_data = []\n",
    "for i in data.index:\n",
    "    if str(data['ddG'][i]) != 'nan' and  str(data['ddG'][i]) != '-inf':\n",
    "        ID = data['#Pdb'][i][:4]\n",
    "        path = f'./PDBs/{ID}.pdb'\n",
    "        mut = data['Mutation(s)_PDB'][i]\n",
    "        location = data['iMutation_Location(s)'][i]\n",
    "        method = data['Method'][i]\n",
    "        orig_res_vector = np.zeros(20)\n",
    "        mut_res_vector = np.zeros(20)\n",
    "        location_vector = np.zeros(5)\n",
    "        method_vector = np.zeros(20)\n",
    "        orig_res_vector[res_to_code[mut[0]]] = 1 \n",
    "        mut_res_vector[res_to_code[mut[-1]]] = 1\n",
    "        location_vector[location_to_code[location]] = 1\n",
    "        method_vector[method_to_code[method]] = 1\n",
    "        ddg = data['ddG'][i]\n",
    "        feature_vector = np.concatenate((orig_res_vector, mut_res_vector, location_vector, method_vector), axis=0)\n",
    "        prepared_data.append([feature_vector, ddg])\n",
    "\n"
   ]
  },
  {
   "cell_type": "markdown",
   "id": "66d7894c",
   "metadata": {},
   "source": [
    "## Обучение"
   ]
  },
  {
   "cell_type": "code",
   "execution_count": 162,
   "id": "bc3f551d",
   "metadata": {},
   "outputs": [],
   "source": [
    "class MyDataset(Dataset):\n",
    "    def __init__(self, data):\n",
    "        self.data = data\n",
    "\n",
    "    def __len__(self):\n",
    "        return len(self.data)\n",
    "\n",
    "    def __getitem__(self, idx):\n",
    "        feature_vector = torch.tensor(self.data[idx][0]).float() \n",
    "        target_value = torch.tensor(self.data[idx][1]).float()\n",
    "        return feature_vector, target_value\n",
    "    \n",
    "train_data, test_data = train_test_split(\n",
    "    prepared_data,\n",
    "    test_size=0.2,\n",
    "    random_state=42\n",
    ")\n",
    "\n",
    "train_dataset = MyDataset(train_data)\n",
    "test_dataset = MyDataset(test_data)\n",
    "    \n",
    "train_loader = DataLoader(\n",
    "    train_dataset,\n",
    "    batch_size=32,\n",
    "    shuffle=True\n",
    ")\n",
    "\n",
    "test_loader = DataLoader(\n",
    "    test_dataset,\n",
    "    batch_size=32,\n",
    "    shuffle=False\n",
    ")"
   ]
  },
  {
   "cell_type": "code",
   "execution_count": 163,
   "id": "f178e70a",
   "metadata": {},
   "outputs": [],
   "source": [
    "class MyModel(nn.Module):\n",
    "    def __init__(self, input_size=65, hidden_size=128, output_size=1):\n",
    "        super(MyModel, self).__init__()\n",
    "        self.fc1 = nn.Linear(input_size, hidden_size)\n",
    "        self.relu = nn.ReLU()\n",
    "        self.fc2 = nn.Linear(hidden_size, output_size)\n",
    "        \n",
    "    def forward(self, x):\n",
    "        x = self.fc1(x)\n",
    "        x = self.relu(x)\n",
    "        x = self.fc2(x)\n",
    "        return x\n"
   ]
  },
  {
   "cell_type": "code",
   "execution_count": 170,
   "id": "8ad7ce5d",
   "metadata": {},
   "outputs": [],
   "source": [
    "def train(model, optimizer, criterion, epochs, train_dataloader, valid_dataloader, device):\n",
    "    train_losses = []\n",
    "    valid_losses = []\n",
    "    for epoch in range(epochs):\n",
    "        model.train()\n",
    "        epoch_loss = 0\n",
    "        epoch_score = 0\n",
    "        for X_batch, Y_batch in tqdm(train_dataloader):\n",
    "            X = X_batch.to(device)\n",
    "            y = Y_batch.to(device)\n",
    "            optimizer.zero_grad()\n",
    "            logits = model(X)\n",
    "            loss = criterion(logits, y)\n",
    "            preds = torch.argmax(logits, dim=1)\n",
    "            score = sum(preds == y)/len(y)\n",
    "            loss.backward()\n",
    "            optimizer.step()\n",
    "            epoch_loss += loss.item()\n",
    "            epoch_score += score.item()\n",
    "        train_losses.append(epoch_loss/len(train_dataloader))\n",
    "\n",
    "        model.eval()\n",
    "        epoch_loss = 0\n",
    "        epoch_score = 0\n",
    "        with torch.no_grad():\n",
    "            for X_batch, Y_batch in valid_dataloader:\n",
    "                X = X_batch.to(device)\n",
    "                y = Y_batch.to(device)\n",
    "                logits = model(X)\n",
    "                loss = criterion(logits, y)\n",
    "                preds = torch.argmax(logits, dim=1)\n",
    "                score = sum(preds == y)/len(y)\n",
    "                epoch_loss += loss.item()\n",
    "                epoch_score += score.item()\n",
    "            valid_losses.append(epoch_loss/len(valid_dataloader))\n",
    "        print(f'Epoch {epoch}:\\tloss\\tmetric')\n",
    "        print(f'train\\t{train_losses[-1]}')\n",
    "        print(f'valid\\t{valid_losses[-1]}')\n",
    "\n",
    "    plt.figure(figsize=(12, 9))\n",
    "    plt.subplot(2, 1, 1)\n",
    "    plt.xlabel('epoch')\n",
    "    plt.plot(train_losses, label='train_loss')\n",
    "    plt.plot(valid_losses, label='valid_loss')\n",
    "    plt.legend()\n",
    "\n",
    "    return model\n"
   ]
  },
  {
   "cell_type": "code",
   "execution_count": 171,
   "id": "91862e8c",
   "metadata": {},
   "outputs": [],
   "source": [
    "device = torch.device(\"cuda\")\n",
    "model = MyModel().to(device)\n",
    "criterion = nn.MSELoss()\n",
    "optimizer = optim.Adam(model.parameters(), lr=0.001)\n",
    "epochs = 50"
   ]
  },
  {
   "cell_type": "code",
   "execution_count": 172,
   "id": "7c95d2ed",
   "metadata": {},
   "outputs": [
    {
     "name": "stderr",
     "output_type": "stream",
     "text": [
      "100%|██████████| 94/94 [00:00<00:00, 259.76it/s]\n"
     ]
    },
    {
     "name": "stdout",
     "output_type": "stream",
     "text": [
      "Epoch 0:\tloss\tmetric\n",
      "train\t2102678202.5531914\n",
      "valid\t2049001818.6666667\n"
     ]
    },
    {
     "name": "stderr",
     "output_type": "stream",
     "text": [
      "100%|██████████| 94/94 [00:00<00:00, 356.13it/s]\n"
     ]
    },
    {
     "name": "stdout",
     "output_type": "stream",
     "text": [
      "Epoch 1:\tloss\tmetric\n",
      "train\t2101947430.1276596\n",
      "valid\t2046775514.6666667\n"
     ]
    },
    {
     "name": "stderr",
     "output_type": "stream",
     "text": [
      "100%|██████████| 94/94 [00:00<00:00, 337.41it/s]\n"
     ]
    },
    {
     "name": "stdout",
     "output_type": "stream",
     "text": [
      "Epoch 2:\tloss\tmetric\n",
      "train\t2099057574.1276596\n",
      "valid\t2042566661.3333333\n"
     ]
    },
    {
     "name": "stderr",
     "output_type": "stream",
     "text": [
      "100%|██████████| 94/94 [00:00<00:00, 347.92it/s]\n"
     ]
    },
    {
     "name": "stdout",
     "output_type": "stream",
     "text": [
      "Epoch 3:\tloss\tmetric\n",
      "train\t2098723984.3404255\n",
      "valid\t2036229920.0\n"
     ]
    },
    {
     "name": "stderr",
     "output_type": "stream",
     "text": [
      "100%|██████████| 94/94 [00:00<00:00, 361.71it/s]\n"
     ]
    },
    {
     "name": "stdout",
     "output_type": "stream",
     "text": [
      "Epoch 4:\tloss\tmetric\n",
      "train\t2084728938.212766\n",
      "valid\t2027785578.6666667\n"
     ]
    },
    {
     "name": "stderr",
     "output_type": "stream",
     "text": [
      "100%|██████████| 94/94 [00:00<00:00, 338.24it/s]\n"
     ]
    },
    {
     "name": "stdout",
     "output_type": "stream",
     "text": [
      "Epoch 5:\tloss\tmetric\n",
      "train\t2088896680.8510637\n",
      "valid\t2017210757.3333333\n"
     ]
    },
    {
     "name": "stderr",
     "output_type": "stream",
     "text": [
      "100%|██████████| 94/94 [00:00<00:00, 352.48it/s]\n"
     ]
    },
    {
     "name": "stdout",
     "output_type": "stream",
     "text": [
      "Epoch 6:\tloss\tmetric\n",
      "train\t2063170197.787234\n",
      "valid\t2004803530.6666667\n"
     ]
    },
    {
     "name": "stderr",
     "output_type": "stream",
     "text": [
      "100%|██████████| 94/94 [00:00<00:00, 293.95it/s]\n"
     ]
    },
    {
     "name": "stdout",
     "output_type": "stream",
     "text": [
      "Epoch 7:\tloss\tmetric\n",
      "train\t2051820971.5744681\n",
      "valid\t1990738112.0\n"
     ]
    },
    {
     "name": "stderr",
     "output_type": "stream",
     "text": [
      "100%|██████████| 94/94 [00:00<00:00, 290.38it/s]\n"
     ]
    },
    {
     "name": "stdout",
     "output_type": "stream",
     "text": [
      "Epoch 8:\tloss\tmetric\n",
      "train\t2038437030.1276596\n",
      "valid\t1974990581.3333333\n"
     ]
    },
    {
     "name": "stderr",
     "output_type": "stream",
     "text": [
      "100%|██████████| 94/94 [00:00<00:00, 315.91it/s]\n"
     ]
    },
    {
     "name": "stdout",
     "output_type": "stream",
     "text": [
      "Epoch 9:\tloss\tmetric\n",
      "train\t2017397504.0\n",
      "valid\t1957707584.0\n"
     ]
    },
    {
     "name": "stderr",
     "output_type": "stream",
     "text": [
      "100%|██████████| 94/94 [00:00<00:00, 262.99it/s]\n"
     ]
    },
    {
     "name": "stdout",
     "output_type": "stream",
     "text": [
      "Epoch 10:\tloss\tmetric\n",
      "train\t2005622380.93617\n",
      "valid\t1938907568.0\n"
     ]
    },
    {
     "name": "stderr",
     "output_type": "stream",
     "text": [
      "100%|██████████| 94/94 [00:00<00:00, 215.40it/s]\n"
     ]
    },
    {
     "name": "stdout",
     "output_type": "stream",
     "text": [
      "Epoch 11:\tloss\tmetric\n",
      "train\t1980896563.744681\n",
      "valid\t1918808949.3333333\n"
     ]
    },
    {
     "name": "stderr",
     "output_type": "stream",
     "text": [
      "100%|██████████| 94/94 [00:00<00:00, 284.14it/s]\n"
     ]
    },
    {
     "name": "stdout",
     "output_type": "stream",
     "text": [
      "Epoch 12:\tloss\tmetric\n",
      "train\t1964416027.2340426\n",
      "valid\t1897443274.6666667\n"
     ]
    },
    {
     "name": "stderr",
     "output_type": "stream",
     "text": [
      "100%|██████████| 94/94 [00:00<00:00, 347.01it/s]\n"
     ]
    },
    {
     "name": "stdout",
     "output_type": "stream",
     "text": [
      "Epoch 13:\tloss\tmetric\n",
      "train\t1941989814.468085\n",
      "valid\t1874861130.6666667\n"
     ]
    },
    {
     "name": "stderr",
     "output_type": "stream",
     "text": [
      "100%|██████████| 94/94 [00:00<00:00, 343.51it/s]\n"
     ]
    },
    {
     "name": "stdout",
     "output_type": "stream",
     "text": [
      "Epoch 14:\tloss\tmetric\n",
      "train\t1914542306.0425532\n",
      "valid\t1851189421.3333333\n"
     ]
    },
    {
     "name": "stderr",
     "output_type": "stream",
     "text": [
      "100%|██████████| 94/94 [00:00<00:00, 350.40it/s]\n"
     ]
    },
    {
     "name": "stdout",
     "output_type": "stream",
     "text": [
      "Epoch 15:\tloss\tmetric\n",
      "train\t1892413958.8085105\n",
      "valid\t1826567762.6666667\n"
     ]
    },
    {
     "name": "stderr",
     "output_type": "stream",
     "text": [
      "100%|██████████| 94/94 [00:00<00:00, -557.97it/s]\n"
     ]
    },
    {
     "name": "stdout",
     "output_type": "stream",
     "text": [
      "Epoch 16:\tloss\tmetric\n",
      "train\t1869598718.6382978\n",
      "valid\t1800885861.3333333\n"
     ]
    },
    {
     "name": "stderr",
     "output_type": "stream",
     "text": [
      "100%|██████████| 94/94 [00:00<00:00, 345.46it/s]\n"
     ]
    },
    {
     "name": "stdout",
     "output_type": "stream",
     "text": [
      "Epoch 17:\tloss\tmetric\n",
      "train\t1835715551.319149\n",
      "valid\t1774355106.6666667\n"
     ]
    },
    {
     "name": "stderr",
     "output_type": "stream",
     "text": [
      "100%|██████████| 94/94 [00:00<00:00, 327.29it/s]\n"
     ]
    },
    {
     "name": "stdout",
     "output_type": "stream",
     "text": [
      "Epoch 18:\tloss\tmetric\n",
      "train\t1807802184.1702127\n",
      "valid\t1747114874.6666667\n"
     ]
    },
    {
     "name": "stderr",
     "output_type": "stream",
     "text": [
      "100%|██████████| 94/94 [00:00<00:00, 313.31it/s]\n"
     ]
    },
    {
     "name": "stdout",
     "output_type": "stream",
     "text": [
      "Epoch 19:\tloss\tmetric\n",
      "train\t1781660332.93617\n",
      "valid\t1719008184.0\n"
     ]
    },
    {
     "name": "stderr",
     "output_type": "stream",
     "text": [
      "100%|██████████| 94/94 [00:00<00:00, 349.18it/s]\n"
     ]
    },
    {
     "name": "stdout",
     "output_type": "stream",
     "text": [
      "Epoch 20:\tloss\tmetric\n",
      "train\t1761456917.787234\n",
      "valid\t1690226373.3333333\n"
     ]
    },
    {
     "name": "stderr",
     "output_type": "stream",
     "text": [
      "100%|██████████| 94/94 [00:00<00:00, 314.62it/s]\n"
     ]
    },
    {
     "name": "stdout",
     "output_type": "stream",
     "text": [
      "Epoch 21:\tloss\tmetric\n",
      "train\t1725980172.255319\n",
      "valid\t1660713496.0\n"
     ]
    },
    {
     "name": "stderr",
     "output_type": "stream",
     "text": [
      "100%|██████████| 94/94 [00:00<00:00, 302.84it/s]\n"
     ]
    },
    {
     "name": "stdout",
     "output_type": "stream",
     "text": [
      "Epoch 22:\tloss\tmetric\n",
      "train\t1697817809.7021277\n",
      "valid\t1630706029.3333333\n"
     ]
    },
    {
     "name": "stderr",
     "output_type": "stream",
     "text": [
      "100%|██████████| 94/94 [00:00<00:00, 297.41it/s]\n"
     ]
    },
    {
     "name": "stdout",
     "output_type": "stream",
     "text": [
      "Epoch 23:\tloss\tmetric\n",
      "train\t1663634595.4042554\n",
      "valid\t1600067117.3333333\n"
     ]
    },
    {
     "name": "stderr",
     "output_type": "stream",
     "text": [
      "100%|██████████| 94/94 [00:00<00:00, 277.44it/s]\n"
     ]
    },
    {
     "name": "stdout",
     "output_type": "stream",
     "text": [
      "Epoch 24:\tloss\tmetric\n",
      "train\t1629792089.8723404\n",
      "valid\t1569073757.3333333\n"
     ]
    },
    {
     "name": "stderr",
     "output_type": "stream",
     "text": [
      "100%|██████████| 94/94 [00:00<00:00, 294.42it/s]\n"
     ]
    },
    {
     "name": "stdout",
     "output_type": "stream",
     "text": [
      "Epoch 25:\tloss\tmetric\n",
      "train\t1607470236.5957446\n",
      "valid\t1537625312.0\n"
     ]
    },
    {
     "name": "stderr",
     "output_type": "stream",
     "text": [
      "100%|██████████| 94/94 [00:00<00:00, 244.94it/s]\n"
     ]
    },
    {
     "name": "stdout",
     "output_type": "stream",
     "text": [
      "Epoch 26:\tloss\tmetric\n",
      "train\t1564251422.6382978\n",
      "valid\t1505700498.6666667\n"
     ]
    },
    {
     "name": "stderr",
     "output_type": "stream",
     "text": [
      "100%|██████████| 94/94 [00:00<00:00, 268.92it/s]\n"
     ]
    },
    {
     "name": "stdout",
     "output_type": "stream",
     "text": [
      "Epoch 27:\tloss\tmetric\n",
      "train\t1539448483.4042554\n",
      "valid\t1473581962.6666667\n"
     ]
    },
    {
     "name": "stderr",
     "output_type": "stream",
     "text": [
      "100%|██████████| 94/94 [00:00<00:00, 322.74it/s]\n"
     ]
    },
    {
     "name": "stdout",
     "output_type": "stream",
     "text": [
      "Epoch 28:\tloss\tmetric\n",
      "train\t1500060539.9148936\n",
      "valid\t1441139922.6666667\n"
     ]
    },
    {
     "name": "stderr",
     "output_type": "stream",
     "text": [
      "100%|██████████| 94/94 [00:00<00:00, 350.92it/s]\n"
     ]
    },
    {
     "name": "stdout",
     "output_type": "stream",
     "text": [
      "Epoch 29:\tloss\tmetric\n",
      "train\t1472683765.106383\n",
      "valid\t1408536986.6666667\n"
     ]
    },
    {
     "name": "stderr",
     "output_type": "stream",
     "text": [
      "100%|██████████| 94/94 [00:00<00:00, 353.41it/s]\n"
     ]
    },
    {
     "name": "stdout",
     "output_type": "stream",
     "text": [
      "Epoch 30:\tloss\tmetric\n",
      "train\t1444620339.744681\n",
      "valid\t1375614304.0\n"
     ]
    },
    {
     "name": "stderr",
     "output_type": "stream",
     "text": [
      "100%|██████████| 94/94 [00:00<00:00, 361.10it/s]\n"
     ]
    },
    {
     "name": "stdout",
     "output_type": "stream",
     "text": [
      "Epoch 31:\tloss\tmetric\n",
      "train\t1407241149.2765958\n",
      "valid\t1342544837.3333333\n"
     ]
    },
    {
     "name": "stderr",
     "output_type": "stream",
     "text": [
      "100%|██████████| 94/94 [00:00<00:00, 254.82it/s]\n"
     ]
    },
    {
     "name": "stdout",
     "output_type": "stream",
     "text": [
      "Epoch 32:\tloss\tmetric\n",
      "train\t1375342768.3404255\n",
      "valid\t1309378976.0\n"
     ]
    },
    {
     "name": "stderr",
     "output_type": "stream",
     "text": [
      "100%|██████████| 94/94 [00:00<00:00, 254.71it/s]\n"
     ]
    },
    {
     "name": "stdout",
     "output_type": "stream",
     "text": [
      "Epoch 33:\tloss\tmetric\n",
      "train\t1335082255.6595745\n",
      "valid\t1276301989.3333333\n"
     ]
    },
    {
     "name": "stderr",
     "output_type": "stream",
     "text": [
      "100%|██████████| 94/94 [00:00<00:00, 262.99it/s]\n"
     ]
    },
    {
     "name": "stdout",
     "output_type": "stream",
     "text": [
      "Epoch 34:\tloss\tmetric\n",
      "train\t1304088817.0212767\n",
      "valid\t1243245957.3333333\n"
     ]
    },
    {
     "name": "stderr",
     "output_type": "stream",
     "text": [
      "100%|██████████| 94/94 [00:00<00:00, 284.98it/s]\n"
     ]
    },
    {
     "name": "stdout",
     "output_type": "stream",
     "text": [
      "Epoch 35:\tloss\tmetric\n",
      "train\t1263975799.1489363\n",
      "valid\t1210081570.6666667\n"
     ]
    },
    {
     "name": "stderr",
     "output_type": "stream",
     "text": [
      "100%|██████████| 94/94 [00:00<00:00, 309.02it/s]\n"
     ]
    },
    {
     "name": "stdout",
     "output_type": "stream",
     "text": [
      "Epoch 36:\tloss\tmetric\n",
      "train\t1239240117.787234\n",
      "valid\t1177156501.3333333\n"
     ]
    },
    {
     "name": "stderr",
     "output_type": "stream",
     "text": [
      "100%|██████████| 94/94 [00:00<00:00, 305.14it/s]\n"
     ]
    },
    {
     "name": "stdout",
     "output_type": "stream",
     "text": [
      "Epoch 37:\tloss\tmetric\n",
      "train\t1213990322.3829787\n",
      "valid\t1144138472.0\n"
     ]
    },
    {
     "name": "stderr",
     "output_type": "stream",
     "text": [
      "100%|██████████| 94/94 [00:00<00:00, 302.14it/s]\n"
     ]
    },
    {
     "name": "stdout",
     "output_type": "stream",
     "text": [
      "Epoch 38:\tloss\tmetric\n",
      "train\t1167904627.744681\n",
      "valid\t1111292101.3333333\n"
     ]
    },
    {
     "name": "stderr",
     "output_type": "stream",
     "text": [
      "100%|██████████| 94/94 [00:00<00:00, 329.39it/s]\n"
     ]
    },
    {
     "name": "stdout",
     "output_type": "stream",
     "text": [
      "Epoch 39:\tloss\tmetric\n",
      "train\t1133278158.9787233\n",
      "valid\t1078741329.3333333\n"
     ]
    },
    {
     "name": "stderr",
     "output_type": "stream",
     "text": [
      "100%|██████████| 94/94 [00:00<00:00, 295.66it/s]\n"
     ]
    },
    {
     "name": "stdout",
     "output_type": "stream",
     "text": [
      "Epoch 40:\tloss\tmetric\n",
      "train\t1100359827.06383\n",
      "valid\t1046312606.6666666\n"
     ]
    },
    {
     "name": "stderr",
     "output_type": "stream",
     "text": [
      "100%|██████████| 94/94 [00:00<00:00, 333.68it/s]\n"
     ]
    },
    {
     "name": "stdout",
     "output_type": "stream",
     "text": [
      "Epoch 41:\tloss\tmetric\n",
      "train\t1075739104.0\n",
      "valid\t1014188169.3333334\n"
     ]
    },
    {
     "name": "stderr",
     "output_type": "stream",
     "text": [
      "100%|██████████| 94/94 [00:00<00:00, 326.81it/s]\n"
     ]
    },
    {
     "name": "stdout",
     "output_type": "stream",
     "text": [
      "Epoch 42:\tloss\tmetric\n",
      "train\t1035120501.106383\n",
      "valid\t982245810.6666666\n"
     ]
    },
    {
     "name": "stderr",
     "output_type": "stream",
     "text": [
      "100%|██████████| 94/94 [00:00<00:00, 312.87it/s]\n"
     ]
    },
    {
     "name": "stdout",
     "output_type": "stream",
     "text": [
      "Epoch 43:\tloss\tmetric\n",
      "train\t1001050316.9361702\n",
      "valid\t950660988.0\n"
     ]
    },
    {
     "name": "stderr",
     "output_type": "stream",
     "text": [
      "100%|██████████| 94/94 [00:00<00:00, 310.52it/s]\n"
     ]
    },
    {
     "name": "stdout",
     "output_type": "stream",
     "text": [
      "Epoch 44:\tloss\tmetric\n",
      "train\t971968763.2340425\n",
      "valid\t919614676.0\n"
     ]
    },
    {
     "name": "stderr",
     "output_type": "stream",
     "text": [
      "100%|██████████| 94/94 [00:00<00:00, 273.96it/s]\n"
     ]
    },
    {
     "name": "stdout",
     "output_type": "stream",
     "text": [
      "Epoch 45:\tloss\tmetric\n",
      "train\t943441826.0425532\n",
      "valid\t888745074.6666666\n"
     ]
    },
    {
     "name": "stderr",
     "output_type": "stream",
     "text": [
      "100%|██████████| 94/94 [00:00<00:00, 289.70it/s]\n"
     ]
    },
    {
     "name": "stdout",
     "output_type": "stream",
     "text": [
      "Epoch 46:\tloss\tmetric\n",
      "train\t908295351.1489362\n",
      "valid\t858341084.0\n"
     ]
    },
    {
     "name": "stderr",
     "output_type": "stream",
     "text": [
      "100%|██████████| 94/94 [00:00<00:00, 286.79it/s]\n"
     ]
    },
    {
     "name": "stdout",
     "output_type": "stream",
     "text": [
      "Epoch 47:\tloss\tmetric\n",
      "train\t881712120.5106384\n",
      "valid\t828434988.0\n"
     ]
    },
    {
     "name": "stderr",
     "output_type": "stream",
     "text": [
      "100%|██████████| 94/94 [00:00<00:00, 287.48it/s]\n"
     ]
    },
    {
     "name": "stdout",
     "output_type": "stream",
     "text": [
      "Epoch 48:\tloss\tmetric\n",
      "train\t845172791.8297873\n",
      "valid\t798813300.0\n"
     ]
    },
    {
     "name": "stderr",
     "output_type": "stream",
     "text": [
      "100%|██████████| 94/94 [00:00<00:00, 287.74it/s]\n"
     ]
    },
    {
     "name": "stdout",
     "output_type": "stream",
     "text": [
      "Epoch 49:\tloss\tmetric\n",
      "train\t823408004.0851064\n",
      "valid\t769856640.0\n"
     ]
    },
    {
     "data": {
      "image/png": "[encoded data removed]",
      "text/plain": [
       "<Figure size 1200x900 with 1 Axes>"
      ]
     },
     "metadata": {},
     "output_type": "display_data"
    }
   ],
   "source": [
    "model = train(model, optimizer, criterion, epochs, train_loader, test_loader, device)"
   ]
  }
 ],
 "metadata": {
  "kernelspec": {
   "display_name": "torchenv",
   "language": "python",
   "name": "python3"
  },
  "language_info": {
   "codemirror_mode": {
    "name": "ipython",
    "version": 3
   },
   "file_extension": ".py",
   "mimetype": "text/x-python",
   "name": "python",
   "nbconvert_exporter": "python",
   "pygments_lexer": "ipython3",
   "version": "3.10.16"
  }
 },
 "nbformat": 4,
 "nbformat_minor": 5
}
